{
  "nbformat": 4,
  "nbformat_minor": 0,
  "metadata": {
    "colab": {
      "provenance": []
    },
    "kernelspec": {
      "name": "python3",
      "display_name": "Python 3"
    },
    "language_info": {
      "name": "python"
    }
  },
  "cells": [
    {
      "cell_type": "code",
      "source": [
        "import nltk\n",
        "nltk.download('punkt')\n",
        "nltk.download('stopwords')\n",
        "nltk.download('averaged_perceptron_tagger')\n",
        "nltk.download('wordnet')\n",
        "nltk.download('omw-1.4')"
      ],
      "metadata": {
        "colab": {
          "base_uri": "https://localhost:8080/"
        },
        "id": "zmGgpaQz4HYJ",
        "outputId": "8ff76ae8-ea89-4cb4-d423-6a0a0a954920"
      },
      "execution_count": 26,
      "outputs": [
        {
          "output_type": "stream",
          "name": "stderr",
          "text": [
            "[nltk_data] Downloading package punkt to /root/nltk_data...\n",
            "[nltk_data]   Package punkt is already up-to-date!\n",
            "[nltk_data] Downloading package stopwords to /root/nltk_data...\n",
            "[nltk_data]   Package stopwords is already up-to-date!\n",
            "[nltk_data] Downloading package averaged_perceptron_tagger to\n",
            "[nltk_data]     /root/nltk_data...\n",
            "[nltk_data]   Package averaged_perceptron_tagger is already up-to-\n",
            "[nltk_data]       date!\n",
            "[nltk_data] Downloading package wordnet to /root/nltk_data...\n",
            "[nltk_data]   Package wordnet is already up-to-date!\n",
            "[nltk_data] Downloading package omw-1.4 to /root/nltk_data...\n",
            "[nltk_data]   Package omw-1.4 is already up-to-date!\n"
          ]
        },
        {
          "output_type": "execute_result",
          "data": {
            "text/plain": [
              "True"
            ]
          },
          "metadata": {},
          "execution_count": 26
        }
      ]
    },
    {
      "cell_type": "code",
      "source": [
        "text= '''Tokenization is the first step in text analytics. The\n",
        "process of breaking down a text paragraph into smaller chunks\n",
        "such as words or sentences is called Tokenization.'''"
      ],
      "metadata": {
        "id": "DT7XZmRV4bEV"
      },
      "execution_count": 27,
      "outputs": []
    },
    {
      "cell_type": "code",
      "source": [
        "from nltk.tokenize import sent_tokenize\n",
        "st = sent_tokenize(text)\n",
        "print(st)\n",
        "\n",
        "from nltk.tokenize import word_tokenize\n",
        "wt = word_tokenize(text)\n",
        "print(wt)"
      ],
      "metadata": {
        "colab": {
          "base_uri": "https://localhost:8080/"
        },
        "id": "Q-LUzmn04fh4",
        "outputId": "809d1775-6422-4e22-a6bb-583ca0c9f384"
      },
      "execution_count": 28,
      "outputs": [
        {
          "output_type": "stream",
          "name": "stdout",
          "text": [
            "['Tokenization is the first step in text analytics.', 'The\\nprocess of breaking down a text paragraph into smaller chunks\\nsuch as words or sentences is called Tokenization.']\n",
            "['Tokenization', 'is', 'the', 'first', 'step', 'in', 'text', 'analytics', '.', 'The', 'process', 'of', 'breaking', 'down', 'a', 'text', 'paragraph', 'into', 'smaller', 'chunks', 'such', 'as', 'words', 'or', 'sentences', 'is', 'called', 'Tokenization', '.']\n"
          ]
        }
      ]
    },
    {
      "cell_type": "code",
      "source": [
        "from nltk.corpus import stopwords\n",
        "import re\n",
        "\n",
        "stop_words = set(stopwords.words(\"english\"))\n",
        "print(\"List of stop words : \",stop_words)"
      ],
      "metadata": {
        "colab": {
          "base_uri": "https://localhost:8080/"
        },
        "id": "ZeMHZT144tpo",
        "outputId": "a913ad96-aa7e-4f06-f869-86c8bbf78248"
      },
      "execution_count": 29,
      "outputs": [
        {
          "output_type": "stream",
          "name": "stdout",
          "text": [
            "List of stop words :  {'this', 'between', 'with', 'a', 'under', \"she's\", 'about', 'them', 'if', \"don't\", 'on', 'there', 'being', \"that'll\", 'themselves', 'into', 'she', 're', \"won't\", 'its', 'doesn', 't', 'm', 'up', 'was', 'as', 'mightn', 'why', 'he', 'don', 'weren', 'only', 'our', 'both', 'has', 'do', 'not', 'should', 'yourselves', \"couldn't\", 'when', 'be', 'now', 'shan', \"shan't\", 'it', 'yourself', 'than', 'y', 'what', 'because', 'haven', 'such', 'during', 'how', 'further', 'ain', 'where', 'mustn', 'same', \"should've\", 'is', 'will', 'any', 've', 'o', \"you'll\", 'all', 'so', \"aren't\", 'you', 'll', 'having', 'needn', 'at', \"mightn't\", 'of', 'for', 'once', 'no', 'down', \"isn't\", 'nor', 'theirs', 'whom', 'those', 'or', 'before', 'each', 'more', 'other', 'their', 'until', 'over', 'are', 'myself', 'they', \"it's\", \"wasn't\", \"you'd\", 'that', 'by', 'an', 'while', 'couldn', 'am', 'in', \"haven't\", 'had', 'been', \"hasn't\", 'didn', 'wouldn', 'through', 'your', 'here', 'very', 'my', 'just', 'herself', 'me', \"mustn't\", 'who', 'shouldn', 'below', 'd', 'from', 'his', 'ours', 'some', 'hasn', 'again', 'we', 'wasn', 'did', 'and', 'then', 'yours', 'himself', 'too', \"weren't\", \"you're\", 'her', 's', 'were', 'against', 'the', \"didn't\", \"wouldn't\", 'itself', 'after', 'him', 'out', \"shouldn't\", 'few', 'own', \"you've\", 'won', \"doesn't\", 'which', 'to', 'hadn', 'above', 'hers', 'off', 'i', 'can', 'ma', 'aren', 'have', 'these', 'doing', 'isn', 'does', \"needn't\", 'ourselves', 'most', \"hadn't\", 'but'}\n"
          ]
        }
      ]
    },
    {
      "cell_type": "code",
      "source": [
        "text = \"How to remove stop words with nltk library in Python?\"\n",
        "text = re.sub('[^a-zA-z]',' ',text)\n",
        "\n",
        "tokens = word_tokenize(text)\n",
        "ft = []\n",
        "for w in tokens:\n",
        "  if w not in stop_words:\n",
        "    ft.append(w)\n",
        "\n",
        "print(\"Tokenized list : \",tokens)\n",
        "print(\"Formatted list : \",ft)"
      ],
      "metadata": {
        "colab": {
          "base_uri": "https://localhost:8080/"
        },
        "id": "520ovJ6b48Pw",
        "outputId": "28c9d2fc-b5c3-4283-abac-72653a64ddc7"
      },
      "execution_count": 30,
      "outputs": [
        {
          "output_type": "stream",
          "name": "stdout",
          "text": [
            "Tokenized list :  ['How', 'to', 'remove', 'stop', 'words', 'with', 'nltk', 'library', 'in', 'Python']\n",
            "Formatted list :  ['How', 'remove', 'stop', 'words', 'nltk', 'library', 'Python']\n"
          ]
        }
      ]
    },
    {
      "cell_type": "code",
      "source": [
        "from nltk.stem import PorterStemmer\n",
        "ps = PorterStemmer()\n",
        "\n",
        "e_words= [\"wait\", \"waiting\", \"waited\", \"waits\"]\n",
        "e_words1= [\"cry\", \"cries\", \"crying\"]\n",
        "\n",
        "for x in e_words:\n",
        "  rootword1 = ps.stem(x)\n",
        "for x in e_words1:\n",
        "  rootword2 = ps.stem(x)\n",
        "print(rootword1,rootword2)"
      ],
      "metadata": {
        "colab": {
          "base_uri": "https://localhost:8080/"
        },
        "id": "t1bON-FH5Yxm",
        "outputId": "cafecf04-befe-4698-957e-9ec352905bc4"
      },
      "execution_count": 34,
      "outputs": [
        {
          "output_type": "stream",
          "name": "stdout",
          "text": [
            "wait cri\n"
          ]
        }
      ]
    },
    {
      "cell_type": "code",
      "source": [
        "from nltk.stem import WordNetLemmatizer\n",
        "lem = WordNetLemmatizer()\n",
        "\n",
        "text = \"studies studying cries cry\"\n",
        "tokenization = nltk.word_tokenize(text)\n",
        "\n",
        "for w in tokenization:\n",
        "  print(\"Lemma for {} is {}\".format(w,lem.lemmatize(w)))"
      ],
      "metadata": {
        "colab": {
          "base_uri": "https://localhost:8080/"
        },
        "id": "2QODAANP5ruE",
        "outputId": "b7576d10-b46a-484d-adab-fd64b760552e"
      },
      "execution_count": 35,
      "outputs": [
        {
          "output_type": "stream",
          "name": "stdout",
          "text": [
            "Lemma for studies is study\n",
            "Lemma for studying is studying\n",
            "Lemma for cries is cry\n",
            "Lemma for cry is cry\n"
          ]
        }
      ]
    },
    {
      "cell_type": "code",
      "source": [
        "data=\"The pink sweater fit her perfectly\"\n",
        "words=word_tokenize(data)\n",
        "\n",
        "for word in words:\n",
        "  print(nltk.pos_tag([word]))"
      ],
      "metadata": {
        "colab": {
          "base_uri": "https://localhost:8080/"
        },
        "id": "_JTVEEud6HKe",
        "outputId": "c885fb18-7109-40aa-8833-fd8acad3e5f6"
      },
      "execution_count": 36,
      "outputs": [
        {
          "output_type": "stream",
          "name": "stdout",
          "text": [
            "[('The', 'DT')]\n",
            "[('pink', 'NN')]\n",
            "[('sweater', 'NN')]\n",
            "[('fit', 'NN')]\n",
            "[('her', 'PRP$')]\n",
            "[('perfectly', 'RB')]\n"
          ]
        }
      ]
    },
    {
      "cell_type": "code",
      "source": [
        "import math\n",
        "import pandas as pd"
      ],
      "metadata": {
        "id": "Xox6du276Lpx"
      },
      "execution_count": 37,
      "outputs": []
    },
    {
      "cell_type": "code",
      "source": [
        "documentA = \"Jupiter is the largest planet\"\n",
        "documentB = \"Mars is the fourth planet from the Sun\""
      ],
      "metadata": {
        "id": "2KK0P-ds6OC4"
      },
      "execution_count": 38,
      "outputs": []
    },
    {
      "cell_type": "code",
      "source": [
        "bagA = documentA.split(' ')\n",
        "bagB = documentB.split(' ')\n",
        "uniqueKeys = set(bagA).union(set(bagB))\n",
        "nowA = dict.fromkeys(uniqueKeys,0)\n",
        "for x in bagA:\n",
        "  nowA[x] += 1\n",
        "\n",
        "nowB = dict.fromkeys(uniqueKeys,0)\n",
        "for x in bagB:\n",
        "  nowB[x] += 1"
      ],
      "metadata": {
        "id": "BUQqTlLN6WgI"
      },
      "execution_count": 48,
      "outputs": []
    },
    {
      "cell_type": "code",
      "source": [
        "nowA"
      ],
      "metadata": {
        "colab": {
          "base_uri": "https://localhost:8080/"
        },
        "id": "zO0Y64Nv7CGd",
        "outputId": "7a0bfa42-ec62-4bfb-8be5-7ec8e07e1564"
      },
      "execution_count": 49,
      "outputs": [
        {
          "output_type": "execute_result",
          "data": {
            "text/plain": [
              "{'the': 1,\n",
              " 'fourth': 0,\n",
              " 'planet': 1,\n",
              " 'Sun': 0,\n",
              " 'Jupiter': 1,\n",
              " 'is': 1,\n",
              " 'largest': 1,\n",
              " 'from': 0,\n",
              " 'Mars': 0}"
            ]
          },
          "metadata": {},
          "execution_count": 49
        }
      ]
    },
    {
      "cell_type": "code",
      "source": [
        "nowB"
      ],
      "metadata": {
        "colab": {
          "base_uri": "https://localhost:8080/"
        },
        "id": "VQO3sdyB7Db7",
        "outputId": "5d68512f-b7d2-415e-8ece-df656d50cd61"
      },
      "execution_count": 50,
      "outputs": [
        {
          "output_type": "execute_result",
          "data": {
            "text/plain": [
              "{'the': 2,\n",
              " 'fourth': 1,\n",
              " 'planet': 1,\n",
              " 'Sun': 1,\n",
              " 'Jupiter': 0,\n",
              " 'is': 1,\n",
              " 'largest': 0,\n",
              " 'from': 1,\n",
              " 'Mars': 1}"
            ]
          },
          "metadata": {},
          "execution_count": 50
        }
      ]
    },
    {
      "cell_type": "code",
      "source": [
        "def computeTF(dic,N):\n",
        "  tfDict = {}\n",
        "  for key,values in dic.items():\n",
        "    tfDict[key] = values / float(N)\n",
        "  return tfDict\n",
        "\n",
        "tfA = computeTF(nowA,len(bagA))\n",
        "tfB = computeTF(nowB,len(bagB))"
      ],
      "metadata": {
        "id": "HgYTTYGH7Dxj"
      },
      "execution_count": 51,
      "outputs": []
    },
    {
      "cell_type": "code",
      "source": [
        "tfA"
      ],
      "metadata": {
        "colab": {
          "base_uri": "https://localhost:8080/"
        },
        "id": "w1FDnhvY7g3D",
        "outputId": "1fa95196-7d51-4e32-ba86-807023959f09"
      },
      "execution_count": 52,
      "outputs": [
        {
          "output_type": "execute_result",
          "data": {
            "text/plain": [
              "{'the': 0.2,\n",
              " 'fourth': 0.0,\n",
              " 'planet': 0.2,\n",
              " 'Sun': 0.0,\n",
              " 'Jupiter': 0.2,\n",
              " 'is': 0.2,\n",
              " 'largest': 0.2,\n",
              " 'from': 0.0,\n",
              " 'Mars': 0.0}"
            ]
          },
          "metadata": {},
          "execution_count": 52
        }
      ]
    },
    {
      "cell_type": "code",
      "source": [
        "tfB"
      ],
      "metadata": {
        "colab": {
          "base_uri": "https://localhost:8080/"
        },
        "id": "Jiaxq_x77hYV",
        "outputId": "002d5aee-d602-4d5d-fecf-61c1f4c130e3"
      },
      "execution_count": 53,
      "outputs": [
        {
          "output_type": "execute_result",
          "data": {
            "text/plain": [
              "{'the': 0.25,\n",
              " 'fourth': 0.125,\n",
              " 'planet': 0.125,\n",
              " 'Sun': 0.125,\n",
              " 'Jupiter': 0.0,\n",
              " 'is': 0.125,\n",
              " 'largest': 0.0,\n",
              " 'from': 0.125,\n",
              " 'Mars': 0.125}"
            ]
          },
          "metadata": {},
          "execution_count": 53
        }
      ]
    },
    {
      "cell_type": "code",
      "source": [
        "def computeIDF(documents):\n",
        "  N = len(documents)\n",
        "  idfDict = dict.fromkeys(documents[0].keys(),0)\n",
        "  for doc in documents:\n",
        "    for k,v in doc.items():\n",
        "      if v > 0:\n",
        "        idfDict[k] += 1\n",
        "  for k,v in idfDict.items():\n",
        "    idfDict[k] = math.log(N/float(v))\n",
        "  return idfDict\n",
        "\n",
        "idf = computeIDF([nowA,nowB])\n",
        "idf"
      ],
      "metadata": {
        "colab": {
          "base_uri": "https://localhost:8080/"
        },
        "id": "uLZP466X7h8O",
        "outputId": "a887876a-147a-4a64-883c-1347d4448097"
      },
      "execution_count": 54,
      "outputs": [
        {
          "output_type": "execute_result",
          "data": {
            "text/plain": [
              "{'the': 0.0,\n",
              " 'fourth': 0.6931471805599453,\n",
              " 'planet': 0.0,\n",
              " 'Sun': 0.6931471805599453,\n",
              " 'Jupiter': 0.6931471805599453,\n",
              " 'is': 0.0,\n",
              " 'largest': 0.6931471805599453,\n",
              " 'from': 0.6931471805599453,\n",
              " 'Mars': 0.6931471805599453}"
            ]
          },
          "metadata": {},
          "execution_count": 54
        }
      ]
    },
    {
      "cell_type": "code",
      "source": [
        "def computeTFIDF(tfBagOfWords, idfs):\n",
        "  tfidf = {}\n",
        "  for word, val in tfBagOfWords.items():\n",
        "    tfidf[word] = val * idfs[word]\n",
        "  return tfidf\n",
        "\n",
        "tfidfA = computeTFIDF(tfA, idf)\n",
        "tfidfB = computeTFIDF(tfB, idf)\n",
        "\n",
        "df = pd.DataFrame([tfidfA, tfidfB])\n",
        "df"
      ],
      "metadata": {
        "colab": {
          "base_uri": "https://localhost:8080/",
          "height": 112
        },
        "id": "VroY4u8x8Tck",
        "outputId": "b78b74bc-8f31-40e5-ec42-7aba9bcad28c"
      },
      "execution_count": 56,
      "outputs": [
        {
          "output_type": "execute_result",
          "data": {
            "text/plain": [
              "   the    fourth  planet       Sun   Jupiter   is   largest      from  \\\n",
              "0  0.0  0.000000     0.0  0.000000  0.138629  0.0  0.138629  0.000000   \n",
              "1  0.0  0.086643     0.0  0.086643  0.000000  0.0  0.000000  0.086643   \n",
              "\n",
              "       Mars  \n",
              "0  0.000000  \n",
              "1  0.086643  "
            ],
            "text/html": [
              "\n",
              "  <div id=\"df-0a2eadc5-8591-47c0-8f87-c3ddb01e8717\">\n",
              "    <div class=\"colab-df-container\">\n",
              "      <div>\n",
              "<style scoped>\n",
              "    .dataframe tbody tr th:only-of-type {\n",
              "        vertical-align: middle;\n",
              "    }\n",
              "\n",
              "    .dataframe tbody tr th {\n",
              "        vertical-align: top;\n",
              "    }\n",
              "\n",
              "    .dataframe thead th {\n",
              "        text-align: right;\n",
              "    }\n",
              "</style>\n",
              "<table border=\"1\" class=\"dataframe\">\n",
              "  <thead>\n",
              "    <tr style=\"text-align: right;\">\n",
              "      <th></th>\n",
              "      <th>the</th>\n",
              "      <th>fourth</th>\n",
              "      <th>planet</th>\n",
              "      <th>Sun</th>\n",
              "      <th>Jupiter</th>\n",
              "      <th>is</th>\n",
              "      <th>largest</th>\n",
              "      <th>from</th>\n",
              "      <th>Mars</th>\n",
              "    </tr>\n",
              "  </thead>\n",
              "  <tbody>\n",
              "    <tr>\n",
              "      <th>0</th>\n",
              "      <td>0.0</td>\n",
              "      <td>0.000000</td>\n",
              "      <td>0.0</td>\n",
              "      <td>0.000000</td>\n",
              "      <td>0.138629</td>\n",
              "      <td>0.0</td>\n",
              "      <td>0.138629</td>\n",
              "      <td>0.000000</td>\n",
              "      <td>0.000000</td>\n",
              "    </tr>\n",
              "    <tr>\n",
              "      <th>1</th>\n",
              "      <td>0.0</td>\n",
              "      <td>0.086643</td>\n",
              "      <td>0.0</td>\n",
              "      <td>0.086643</td>\n",
              "      <td>0.000000</td>\n",
              "      <td>0.0</td>\n",
              "      <td>0.000000</td>\n",
              "      <td>0.086643</td>\n",
              "      <td>0.086643</td>\n",
              "    </tr>\n",
              "  </tbody>\n",
              "</table>\n",
              "</div>\n",
              "      <button class=\"colab-df-convert\" onclick=\"convertToInteractive('df-0a2eadc5-8591-47c0-8f87-c3ddb01e8717')\"\n",
              "              title=\"Convert this dataframe to an interactive table.\"\n",
              "              style=\"display:none;\">\n",
              "        \n",
              "  <svg xmlns=\"http://www.w3.org/2000/svg\" height=\"24px\"viewBox=\"0 0 24 24\"\n",
              "       width=\"24px\">\n",
              "    <path d=\"M0 0h24v24H0V0z\" fill=\"none\"/>\n",
              "    <path d=\"M18.56 5.44l.94 2.06.94-2.06 2.06-.94-2.06-.94-.94-2.06-.94 2.06-2.06.94zm-11 1L8.5 8.5l.94-2.06 2.06-.94-2.06-.94L8.5 2.5l-.94 2.06-2.06.94zm10 10l.94 2.06.94-2.06 2.06-.94-2.06-.94-.94-2.06-.94 2.06-2.06.94z\"/><path d=\"M17.41 7.96l-1.37-1.37c-.4-.4-.92-.59-1.43-.59-.52 0-1.04.2-1.43.59L10.3 9.45l-7.72 7.72c-.78.78-.78 2.05 0 2.83L4 21.41c.39.39.9.59 1.41.59.51 0 1.02-.2 1.41-.59l7.78-7.78 2.81-2.81c.8-.78.8-2.07 0-2.86zM5.41 20L4 18.59l7.72-7.72 1.47 1.35L5.41 20z\"/>\n",
              "  </svg>\n",
              "      </button>\n",
              "      \n",
              "  <style>\n",
              "    .colab-df-container {\n",
              "      display:flex;\n",
              "      flex-wrap:wrap;\n",
              "      gap: 12px;\n",
              "    }\n",
              "\n",
              "    .colab-df-convert {\n",
              "      background-color: #E8F0FE;\n",
              "      border: none;\n",
              "      border-radius: 50%;\n",
              "      cursor: pointer;\n",
              "      display: none;\n",
              "      fill: #1967D2;\n",
              "      height: 32px;\n",
              "      padding: 0 0 0 0;\n",
              "      width: 32px;\n",
              "    }\n",
              "\n",
              "    .colab-df-convert:hover {\n",
              "      background-color: #E2EBFA;\n",
              "      box-shadow: 0px 1px 2px rgba(60, 64, 67, 0.3), 0px 1px 3px 1px rgba(60, 64, 67, 0.15);\n",
              "      fill: #174EA6;\n",
              "    }\n",
              "\n",
              "    [theme=dark] .colab-df-convert {\n",
              "      background-color: #3B4455;\n",
              "      fill: #D2E3FC;\n",
              "    }\n",
              "\n",
              "    [theme=dark] .colab-df-convert:hover {\n",
              "      background-color: #434B5C;\n",
              "      box-shadow: 0px 1px 3px 1px rgba(0, 0, 0, 0.15);\n",
              "      filter: drop-shadow(0px 1px 2px rgba(0, 0, 0, 0.3));\n",
              "      fill: #FFFFFF;\n",
              "    }\n",
              "  </style>\n",
              "\n",
              "      <script>\n",
              "        const buttonEl =\n",
              "          document.querySelector('#df-0a2eadc5-8591-47c0-8f87-c3ddb01e8717 button.colab-df-convert');\n",
              "        buttonEl.style.display =\n",
              "          google.colab.kernel.accessAllowed ? 'block' : 'none';\n",
              "\n",
              "        async function convertToInteractive(key) {\n",
              "          const element = document.querySelector('#df-0a2eadc5-8591-47c0-8f87-c3ddb01e8717');\n",
              "          const dataTable =\n",
              "            await google.colab.kernel.invokeFunction('convertToInteractive',\n",
              "                                                     [key], {});\n",
              "          if (!dataTable) return;\n",
              "\n",
              "          const docLinkHtml = 'Like what you see? Visit the ' +\n",
              "            '<a target=\"_blank\" href=https://colab.research.google.com/notebooks/data_table.ipynb>data table notebook</a>'\n",
              "            + ' to learn more about interactive tables.';\n",
              "          element.innerHTML = '';\n",
              "          dataTable['output_type'] = 'display_data';\n",
              "          await google.colab.output.renderOutput(dataTable, element);\n",
              "          const docLink = document.createElement('div');\n",
              "          docLink.innerHTML = docLinkHtml;\n",
              "          element.appendChild(docLink);\n",
              "        }\n",
              "      </script>\n",
              "    </div>\n",
              "  </div>\n",
              "  "
            ]
          },
          "metadata": {},
          "execution_count": 56
        }
      ]
    },
    {
      "cell_type": "code",
      "source": [],
      "metadata": {
        "id": "z_2B6pUO9daq"
      },
      "execution_count": null,
      "outputs": []
    }
  ]
}